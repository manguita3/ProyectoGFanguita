{
  "cells": [
    {
      "cell_type": "raw",
      "metadata": {},
      "source": [
        "---\n",
        "title: \"Plantilla Proyecto\"\n",
        "author: \"Alumno\"\n",
        "format: html\n",
        "editor: visual\n",
        "---"
      ],
      "id": "c3814d35"
    },
    {
      "cell_type": "code",
      "metadata": {},
      "source": [
        "%pip install yfinance"
      ],
      "id": "1da700d1",
      "execution_count": null,
      "outputs": []
    },
    {
      "cell_type": "markdown",
      "metadata": {},
      "source": [
        "## Descripción Activo (Hito 1)\n",
        "\n",
        "### Definición\n",
        "\n",
        "Definir y describir activo a estudiar, acompañar con datos (tributa a indicador de Contexto) y con referencias científicas.\n"
      ],
      "id": "4c9f0f2b"
    },
    {
      "cell_type": "code",
      "metadata": {},
      "source": [
        "import yfinance as yf\n",
        "\n",
        "stocks = ['BAC', 'AAPL', 'MSFT']"
      ],
      "id": "8194d711",
      "execution_count": null,
      "outputs": []
    },
    {
      "cell_type": "markdown",
      "metadata": {},
      "source": [
        "### Motivación\n",
        "\n",
        "Establecer la relevancia o potencial interés específico del activo. Dar contexto\n",
        "\n",
        "### Contexto\n",
        "\n",
        "Ingesta datos del activo y provee un análisis de estadística descriptiva simple junto con el análisis de una variable económica de contexto. Ejemplo: Si el activo es una minera, la variable puede ser el precio del metal.\n",
        "\n",
        "### Análisis de Largo Plazo\n",
        "\n",
        "#### Caracterización deuda\n",
        "\n",
        "Aplicación cap. 15\n",
        "\n",
        "#### Caracterización de emisiones históricas\n",
        "\n",
        "Aplicación cap. 20\n",
        "\n",
        "#### Relación con activos derivados\n",
        "\n",
        "Investigar relación con instrumentos derivados (difícil)"
      ],
      "id": "00d9c446"
    }
  ],
  "metadata": {
    "kernelspec": {
      "display_name": "Python 3",
      "language": "python",
      "name": "python3"
    }
  },
  "nbformat": 4,
  "nbformat_minor": 5
}