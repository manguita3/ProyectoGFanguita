{
  "nbformat": 4,
  "nbformat_minor": 0,
  "metadata": {
    "colab": {
      "provenance": []
    },
    "kernelspec": {
      "name": "python3",
      "display_name": "Python 3"
    },
    "language_info": {
      "name": "python"
    }
  },
  "cells": [
    {
      "cell_type": "markdown",
      "source": [
        "Segun codigo de clases"
      ],
      "metadata": {
        "id": "-m2Vt7M_Ja7p"
      }
    },
    {
      "cell_type": "code",
      "source": [
        "import yfinance as yf\n",
        "import numpy as np\n",
        "from scipy.stats import norm\n",
        "import datetime\n",
        "\n",
        "# 1. Obtener datos históricos y cálculos de precio actual, volatilidad y tasa libre de riesgo\n",
        "\n",
        "# Símbolo del Banco Santander Chile en Yahoo Finance\n",
        "symbol = 'BSAC'\n",
        "\n",
        "# Fechas de inicio y fin\n",
        "start_date = datetime.datetime(2023, 1, 1)\n",
        "end_date = datetime.datetime(2024, 9, 25)  # Fecha actual fija\n",
        "\n",
        "# Obtener datos históricos\n",
        "stock_data = yf.download(symbol, start=start_date, end=end_date)\n",
        "\n",
        "# Obtener el precio actual\n",
        "current_price = stock_data['Adj Close'][-1]\n",
        "print(f\"El precio actual de una acción del Banco Santander Chile es: {current_price}\")\n",
        "\n",
        "# Obtener la fecha de vencimiento\n",
        "fecha_actual = datetime.datetime(2024, 9, 25)  # Fecha fija de hoy\n",
        "fecha_vencimiento = datetime.datetime(2024, 12, 31)  # Fecha de vencimiento fija\n",
        "\n",
        "diferencia = fecha_vencimiento - fecha_actual\n",
        "dias_hasta_vencimiento = diferencia.days\n",
        "años_hasta_vencimiento = dias_hasta_vencimiento / 252  # Asumiendo 252 días hábiles\n",
        "\n",
        "# Obtener la volatilidad histórica\n",
        "historical_data = yf.download(symbol, start=start_date, end=end_date)\n",
        "historical_data['Daily Returns'] = historical_data['Adj Close'].pct_change()  # Calcular rendimientos diarios\n",
        "volatility = np.std(historical_data['Daily Returns']) * np.sqrt(252)  # Volatilidad anualizada\n",
        "print(f'Volatilidad histórica del Banco Santander Chile: {volatility:.4f}')\n",
        "\n",
        "# Tasa de interés libre de riesgo\n",
        "symbol_bono = \"^TNX\"  # Usaremos bonos del Tesoro de EE.UU. como aproximación\n",
        "historical_data_bono = yf.download(symbol_bono, start=start_date, end=end_date)\n",
        "historical_data_bono['Daily Returns'] = historical_data_bono['Adj Close'].pct_change()\n",
        "tasa_libre_riesgo = np.mean(historical_data_bono['Daily Returns']) * 252  # Tasa anualizada\n",
        "print(f'Tasa de interés libre de riesgo compuesta continuamente: {tasa_libre_riesgo:.4f}')\n",
        "\n",
        "# Precio spot actual (S0)\n",
        "data = yf.Ticker(symbol)\n",
        "S0 = data.history(period=\"1d\")[\"Close\"].iloc[-1]\n",
        "print(f\"El S0 será: {S0}\")\n",
        "\n",
        "# 2. Cálculo del precio de la opción usando el modelo de Black-Scholes\n",
        "\n",
        "def black_scholes_option_price(S, K, T, r, sigma, option_type='call'):\n",
        "    d1 = (np.log(S / K) + (r + 0.5 * sigma ** 2) * T) / (sigma * np.sqrt(T))\n",
        "    d2 = d1 - sigma * np.sqrt(T)\n",
        "    if option_type == 'call':\n",
        "        option_price = S * norm.cdf(d1) - K * np.exp(-r * T) * norm.cdf(d2)\n",
        "    elif option_type == 'put':\n",
        "        option_price = K * np.exp(-r * T) * norm.cdf(-d2) - S * norm.cdf(-d1)\n",
        "    else:\n",
        "        raise ValueError(\"option_type debe ser 'call' o 'put'.\")\n",
        "    return option_price\n",
        "\n",
        "# Parámetros para Black-Scholes\n",
        "K = current_price  # Precio de ejercicio\n",
        "T = años_hasta_vencimiento  # Tiempo hasta la expiración\n",
        "r = tasa_libre_riesgo  # Tasa libre de riesgo\n",
        "sigma = volatility  # Volatilidad\n",
        "\n",
        "# Cálculo del precio de opción de compra y venta\n",
        "call_option_price = black_scholes_option_price(S0, K, T, r, sigma, option_type='call')\n",
        "put_option_price = black_scholes_option_price(S0, K, T, r, sigma, option_type='put')\n",
        "print(f'Precio de la opción de compra (call) según Black-Scholes: {call_option_price:.4f}')\n",
        "print(f'Precio de la opción de venta (put) según Black-Scholes: {put_option_price:.4f}')\n",
        "\n",
        "# 3. Cálculo del precio de la opción usando el modelo binomial\n",
        "\n",
        "def binomial_option_pricing(S, K, T, r, sigma, n, option_type='call'):\n",
        "    dt = T / n\n",
        "    u = np.exp(sigma * np.sqrt(dt))\n",
        "    d = 1 / u\n",
        "    p = (np.exp(r * dt) - d) / (u - d)\n",
        "    option_prices = np.zeros((n + 1,))\n",
        "\n",
        "    # Calcular precios en el último paso\n",
        "    for i in range(n + 1):\n",
        "        if option_type == 'call':\n",
        "            option_prices[i] = max(0, S * (u ** i) * (d ** (n - i)) - K)\n",
        "        elif option_type == 'put':\n",
        "            option_prices[i] = max(0, K - S * (u ** i) * (d ** (n - i)))\n",
        "\n",
        "    # Calcular los precios hacia atrás\n",
        "    for j in range(n, 0, -1):\n",
        "        for i in range(j):\n",
        "            option_prices[i] = np.exp(-r * dt) * (p * option_prices[i + 1] + (1 - p) * option_prices[i])\n",
        "\n",
        "    return option_prices[0]\n",
        "\n",
        "# Parámetros para el modelo binomial\n",
        "n = 100  # Número de pasos\n",
        "# Cálculo del precio de opción de compra y venta con modelo binomial\n",
        "call_option_price_binomial = binomial_option_pricing(S0, K, T, r, sigma, n, option_type='call')\n",
        "put_option_price_binomial = binomial_option_pricing(S0, K, T, r, sigma, n, option_type='put')\n",
        "\n",
        "print(f'Precio de la opción de compra (call) según el modelo binomial: {call_option_price_binomial:.4f}')\n",
        "print(f'Precio de la opción de venta (put) según el modelo binomial: {put_option_price_binomial:.4f}')\n"
      ],
      "metadata": {
        "colab": {
          "base_uri": "https://localhost:8080/"
        },
        "id": "EJURrZ9RMxrK",
        "outputId": "be8b18fc-5e47-4a8e-c1d7-2f627a79343a"
      },
      "execution_count": 10,
      "outputs": [
        {
          "output_type": "stream",
          "name": "stderr",
          "text": [
            "[*********************100%***********************]  1 of 1 completed\n",
            "<ipython-input-10-6c594d64822d>:19: FutureWarning: Series.__getitem__ treating keys as positions is deprecated. In a future version, integer keys will always be treated as labels (consistent with DataFrame behavior). To access a value by position, use `ser.iloc[pos]`\n",
            "  current_price = stock_data['Adj Close'][-1]\n",
            "[*********************100%***********************]  1 of 1 completed\n"
          ]
        },
        {
          "output_type": "stream",
          "name": "stdout",
          "text": [
            "El precio actual de una acción del Banco Santander Chile es: 20.8799991607666\n",
            "Volatilidad histórica del Banco Santander Chile: 0.2552\n"
          ]
        },
        {
          "output_type": "stream",
          "name": "stderr",
          "text": [
            "\r[*********************100%***********************]  1 of 1 completed\n"
          ]
        },
        {
          "output_type": "stream",
          "name": "stdout",
          "text": [
            "Tasa de interés libre de riesgo compuesta continuamente: 0.0284\n",
            "El S0 será: 20.760000228881836\n",
            "Precio de la opción de compra (call) según Black-Scholes: 1.3610\n",
            "Precio de la opción de venta (put) según Black-Scholes: 1.2540\n",
            "Precio de la opción de compra (call) según el modelo binomial: 1.3616\n",
            "Precio de la opción de venta (put) según el modelo binomial: 1.2546\n"
          ]
        }
      ]
    },
    {
      "cell_type": "code",
      "metadata": {
        "id": "A94tm6BPV8ek"
      },
      "source": [
        "from sympy import *\n",
        "init_printing()"
      ],
      "execution_count": 1,
      "outputs": []
    },
    {
      "cell_type": "markdown",
      "metadata": {
        "id": "7gFqI2F2kfBr"
      },
      "source": [
        "La estructura financiera es la siguiente:\n",
        "\n",
        "Dos periodos $t=0,1$ y 2 estados de la naturaleza en $t=1$: bueno (u) y malo (d)\n",
        "\n",
        "Dos activos:\n",
        "- libre de riesgo (bono) con valor inicial $B$ y retorno $\\tilde r>1$\n",
        "- riesgoso (acción) con valor inicial $S_0$ y retornos $u>1$ ó $1>d$\n",
        "\n",
        "Derivado: opción de compra Europea de la acción (se ejerce solo al final)\n",
        "- $K$ precio de ejercicio\n",
        "- $S_1$ valor del activo al final\n",
        "- $\\max\\{0,S_1-K\\}$ retorno para $S_1\\in\\{uS_0,dS_0\\}$"
      ]
    },
    {
      "cell_type": "markdown",
      "metadata": {
        "id": "t2bbVPgDlOC7"
      },
      "source": [
        "1. ¿Cuál es el precio de los activos no derivados?\n",
        "- De esta forma el precio del bono es $B$ y el precio de la acción es $S_0$.\n",
        "2. ¿Cuál es el retorno de los activos no derivados?\n",
        "- El retorno del bono es $\\tilde rB$ tanto en el estado bueno como en el estado malo\n",
        "- El retorno de la acción es $uS_0$ en el estado bueno y $dS_0$ en el estado malo\n",
        "3. ¿Cuál es el retorno de la opción?\n",
        "- RESPONDER"
      ]
    },
    {
      "cell_type": "markdown",
      "metadata": {
        "id": "CLPf6mSFl--g"
      },
      "source": [
        "Inicialmente nos concentraremos en los activos no derivados. Definimos $W=\\left[-q'\\atop R\\right]$ donde los precios de los activos son $q=(q_1,q_2)=(B,S_0)$ y los retornos son $R=(R_1,R_2)$.\n",
        "1. Encuentre la expresión de $R_1$ y $R_2$.\n",
        "- RESPONDER\n",
        "2. Encuentre $W$.\n",
        "- RESPONDER\n"
      ]
    },
    {
      "cell_type": "code",
      "metadata": {
        "id": "Cy0Kv-NQWFzo",
        "colab": {
          "base_uri": "https://localhost:8080/",
          "height": 37
        },
        "outputId": "bca868e0-b09c-4727-d5d1-6e64b4bcc51c"
      },
      "source": [
        "# Parámetros Bono\n",
        "r, B = symbols('r B')\n",
        "# Parámetros Acción\n",
        "u, d, S0 = symbols('u d S0')\n",
        "\n",
        "r, B = 0.01, 100\n",
        "# Parámetros de la acción (modificado)\n",
        "u, d, S0 = 1.006, 1.003, 20.15  # u y d calculados con precio open y close y S0\n",
        "\n",
        "\n",
        "accion = S0\n",
        "\n",
        "retorno_accionU = u * S0\n",
        "retorno_accionD = d * S0\n",
        "(accion,retorno_accionU,retorno_accionD)"
      ],
      "execution_count": 2,
      "outputs": [
        {
          "output_type": "execute_result",
          "data": {
            "text/plain": [
              "(20.15, 20.270899999999997, 20.210449999999998)"
            ],
            "text/latex": "$\\displaystyle \\left( 20.15, \\  20.2709, \\  20.21045\\right)$"
          },
          "metadata": {},
          "execution_count": 2
        }
      ]
    },
    {
      "cell_type": "code",
      "metadata": {
        "colab": {
          "base_uri": "https://localhost:8080/",
          "height": 78
        },
        "id": "DC8ukIQ0fhMf",
        "outputId": "64cc433b-3a2f-43f1-be2c-910e916832ea"
      },
      "source": [
        "W = Matrix([[-B, -S0], [r*B, u*S0],[r*B, d*S0]])\n",
        "W"
      ],
      "execution_count": 3,
      "outputs": [
        {
          "output_type": "execute_result",
          "data": {
            "text/plain": [
              "⎡-100   -20.15 ⎤\n",
              "⎢              ⎥\n",
              "⎢1.0   20.2709 ⎥\n",
              "⎢              ⎥\n",
              "⎣1.0   20.21045⎦"
            ],
            "text/latex": "$\\displaystyle \\left[\\begin{matrix}-100 & -20.15\\\\1.0 & 20.2709\\\\1.0 & 20.21045\\end{matrix}\\right]$"
          },
          "metadata": {},
          "execution_count": 3
        }
      ]
    },
    {
      "cell_type": "markdown",
      "metadata": {
        "id": "_Se_KYUTn1O2"
      },
      "source": [
        "El Teorema Fundamental de Valoración de Activos ([Harrison and Kreps (1979)](https://www.sciencedirect.com/science/article/pii/0022053179900437)) establece que la estructura financiera  es libre de arbitraje si y sólo si existe un $\\pi\\in\\mathbb{R}^S_{++}$ tal que\n",
        "\n",
        "(Condición) $[1,\\pi']W=0$.\n",
        "\n",
        "Para utilizar este resultado, definamos el vector $[1,\\pi']$."
      ]
    },
    {
      "cell_type": "code",
      "metadata": {
        "colab": {
          "base_uri": "https://localhost:8080/",
          "height": 78
        },
        "id": "lPdpudCsfv3h",
        "outputId": "c68ec44d-c225-40c8-eecb-201963ff7abe"
      },
      "source": [
        "pi_u, pi_d = symbols('pi_u pi_d')\n",
        "pi = Matrix([[1],[pi_u],[pi_d]])\n",
        "pi"
      ],
      "execution_count": 4,
      "outputs": [
        {
          "output_type": "execute_result",
          "data": {
            "text/plain": [
              "⎡ 1 ⎤\n",
              "⎢   ⎥\n",
              "⎢πᵤ ⎥\n",
              "⎢   ⎥\n",
              "⎣π_d⎦"
            ],
            "text/latex": "$\\displaystyle \\left[\\begin{matrix}1\\\\\\pi_{u}\\\\\\pi_{d}\\end{matrix}\\right]$"
          },
          "metadata": {},
          "execution_count": 4
        }
      ]
    },
    {
      "cell_type": "markdown",
      "metadata": {
        "id": "BaIaSdDppauN"
      },
      "source": [
        "Reemplazando en la (Condición) obtenemos el siguiente sistema de ecuaciones:"
      ]
    },
    {
      "cell_type": "code",
      "metadata": {
        "colab": {
          "base_uri": "https://localhost:8080/",
          "height": 39
        },
        "id": "Nnl0BgZpnW7g",
        "outputId": "fd7b7245-3f19-4ae7-9475-ca9ae7c800c5"
      },
      "source": [
        "NA=pi.transpose()*W\n",
        "NA"
      ],
      "execution_count": 5,
      "outputs": [
        {
          "output_type": "execute_result",
          "data": {
            "text/plain": [
              "[1.0⋅π_d + 1.0⋅πᵤ - 100  20.21045⋅π_d + 20.2709⋅πᵤ - 20.15]"
            ],
            "text/latex": "$\\displaystyle \\left[\\begin{matrix}1.0 \\pi_{d} + 1.0 \\pi_{u} - 100 & 20.21045 \\pi_{d} + 20.2709 \\pi_{u} - 20.15\\end{matrix}\\right]$"
          },
          "metadata": {},
          "execution_count": 5
        }
      ]
    },
    {
      "cell_type": "markdown",
      "metadata": {
        "id": "cD_eUsqrp-Bd"
      },
      "source": [
        "Podemos utilizar un _solver_ algebraico para encontrar expresiones generales de $\\pi_1$ y $\\pi_2$ en función de los parámetros $u,d$ y $r$:"
      ]
    },
    {
      "cell_type": "code",
      "metadata": {
        "colab": {
          "base_uri": "https://localhost:8080/",
          "height": 38
        },
        "id": "P2Z8f4vnnkgH",
        "outputId": "58fcd2a3-d41a-4199-da90-7f4b87217dfa"
      },
      "source": [
        "# Solver tutorial\n",
        "# https://docs.sympy.org/latest/modules/solvers/solvers.html\n",
        "piNA=solve([NA[0],NA[1]],[pi_u,pi_d],dict=True)\n",
        "piNA"
      ],
      "execution_count": 6,
      "outputs": [
        {
          "output_type": "execute_result",
          "data": {
            "text/plain": [
              "[{π_d: 33200.0, πᵤ: -33100.0}]"
            ],
            "text/latex": "$\\displaystyle \\left[ \\left\\{ \\pi_{d} : 33200.0, \\  \\pi_{u} : -33100.0\\right\\}\\right]$"
          },
          "metadata": {},
          "execution_count": 6
        }
      ]
    },
    {
      "cell_type": "markdown",
      "metadata": {
        "id": "LkgUfcI-hH1O"
      },
      "source": [
        "## Inclusión del derivado\n",
        "\n",
        "Ahora extendamos la matriz $W$ para incorporar la opción.\n",
        "\n",
        "1. Encuentre la expresión para $W$ agregando los retornos y el precio de la opción denotado por $q_3$."
      ]
    },
    {
      "cell_type": "code",
      "metadata": {
        "colab": {
          "base_uri": "https://localhost:8080/",
          "height": 78
        },
        "id": "vCyZW8bmX5m8",
        "outputId": "263fd01d-cd50-4f41-bd52-409b37cf77ed"
      },
      "source": [
        "# Parámetros Opción (modificado)\n",
        "q3 = symbols('q3')\n",
        "K = 21  # Precio de ejercicio de la opción, ajustado a 21 basado en el máximo rango del precio (52 Week Range)\n",
        "# Parámetros Bono\n",
        "r, B = 1.01, 100  # Ajuste de los parámetros del bono\n",
        "# Parámetros Acción\n",
        "u, d, S0 = 1.003, 1.005, 20.15  # Ajuste de los parámetros de la acción\n",
        "W = Matrix([[-B, -S0, -q3], [1.01*B, u*S0, max(0, u*S0-K)], [1.01*B, d*S0, max(0, d*S0-K)]])\n",
        "W\n"
      ],
      "execution_count": 7,
      "outputs": [
        {
          "output_type": "execute_result",
          "data": {
            "text/plain": [
              "⎡-100    -20.15   -q₃⎤\n",
              "⎢                    ⎥\n",
              "⎢101.0  20.21045   0 ⎥\n",
              "⎢                    ⎥\n",
              "⎣101.0  20.25075   0 ⎦"
            ],
            "text/latex": "$\\displaystyle \\left[\\begin{matrix}-100 & -20.15 & - q_{3}\\\\101.0 & 20.21045 & 0\\\\101.0 & 20.25075 & 0\\end{matrix}\\right]$"
          },
          "metadata": {},
          "execution_count": 7
        }
      ]
    },
    {
      "cell_type": "markdown",
      "metadata": {
        "id": "Nrw0Ku90rzaO"
      },
      "source": [
        "Utilice la (Condición) del Teorema Fundamental reemplazando los valores encontrados anteriormente para $\\pi$ para definir una expresión para $q_3$."
      ]
    },
    {
      "cell_type": "code",
      "metadata": {
        "colab": {
          "base_uri": "https://localhost:8080/",
          "height": 39
        },
        "id": "DYlRnularyxo",
        "outputId": "5a6d9579-3052-4204-bd87-dd0066dd65b5"
      },
      "source": [
        "Prices = Matrix([[1], [piNA[0][pi_u]], [piNA[0][pi_d]]]).transpose() * W\n",
        "Prices.subs([(d, 0.5), (u, 1.5), (r, 0.01)])\n",
        "Prices"
      ],
      "execution_count": 8,
      "outputs": [
        {
          "output_type": "execute_result",
          "data": {
            "text/plain": [
              "[10000.0  3338.85499999998  -q₃]"
            ],
            "text/latex": "$\\displaystyle \\left[\\begin{matrix}10000.0 & 3338.85499999998 & - q_{3}\\end{matrix}\\right]$"
          },
          "metadata": {},
          "execution_count": 8
        }
      ]
    },
    {
      "cell_type": "code",
      "metadata": {
        "colab": {
          "base_uri": "https://localhost:8080/",
          "height": 39
        },
        "id": "_zebmDzewQX5",
        "outputId": "d702e889-138a-4536-cf8d-c310b0d8a9ee"
      },
      "source": [
        "Prices.subs([(d,0.5),(u,1.5),(r,0.01)])"
      ],
      "execution_count": 9,
      "outputs": [
        {
          "output_type": "execute_result",
          "data": {
            "text/plain": [
              "[10000.0  3338.85499999998  -q₃]"
            ],
            "text/latex": "$\\displaystyle \\left[\\begin{matrix}10000.0 & 3338.85499999998 & - q_{3}\\end{matrix}\\right]$"
          },
          "metadata": {},
          "execution_count": 9
        }
      ]
    },
    {
      "cell_type": "markdown",
      "metadata": {
        "id": "Y3LIiwYyw4da"
      },
      "source": [
        "## Aplicación (Grupos)\n",
        "\n",
        "Encuentre valores de $r,B,u,d,S_0$ para valorar una opción."
      ]
    },
    {
      "cell_type": "markdown",
      "metadata": {
        "id": "I0nmcOVmoqDP"
      },
      "source": [
        "# Anexo\n",
        "Para más manipulaciones simbólicas ver [este cuaderno.](https://colab.research.google.com/github/jrjohansson/scientific-python-lectures/blob/master/Lecture-5-Sympy.ipynb#scrollTo=GzKR97oUjW8T)"
      ]
    }
  ]
}